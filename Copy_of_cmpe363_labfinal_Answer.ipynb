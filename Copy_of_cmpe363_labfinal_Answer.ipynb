{
  "nbformat": 4,
  "nbformat_minor": 0,
  "metadata": {
    "colab": {
      "provenance": [],
      "include_colab_link": true
    },
    "kernelspec": {
      "name": "python3",
      "display_name": "Python 3"
    },
    "language_info": {
      "name": "python"
    }
  },
  "cells": [
    {
      "cell_type": "markdown",
      "metadata": {
        "id": "view-in-github",
        "colab_type": "text"
      },
      "source": [
        "<a href=\"https://colab.research.google.com/github/cansahin9/Examples/blob/master/Copy_of_cmpe363_labfinal_Answer.ipynb\" target=\"_parent\"><img src=\"https://colab.research.google.com/assets/colab-badge.svg\" alt=\"Open In Colab\"/></a>"
      ]
    },
    {
      "cell_type": "markdown",
      "source": [
        "**Q1) Import the numpy, pandas, matplotlib.pyplot and libraries.** (+5 points)"
      ],
      "metadata": {
        "id": "WQMiK-AzPiR4"
      }
    },
    {
      "cell_type": "code",
      "execution_count": null,
      "metadata": {
        "id": "ElmLaj0ynWNM"
      },
      "outputs": [],
      "source": [
        "# Importing the libraries\n",
        "import numpy as np # for array operations\n",
        "import pandas as pd # for working with DataFrames\n",
        "import matplotlib.pyplot as plt # for data visualization"
      ]
    },
    {
      "cell_type": "markdown",
      "source": [
        "**Q2) Read the data. Use and print the first 5 row from the data.** (+5 points)\n"
      ],
      "metadata": {
        "id": "WyntrAO-PxyM"
      }
    },
    {
      "cell_type": "code",
      "source": [
        "# Reading the data\n",
        "dataset = pd.read_csv('trainmaternal _withNulls.csv')\n",
        "#Print the first 5 rows\n",
        "dataset.head()"
      ],
      "metadata": {
        "colab": {
          "base_uri": "https://localhost:8080/",
          "height": 206
        },
        "id": "WhLdy__Hr7-U",
        "outputId": "8ac0148f-19fd-4a8b-cc73-0e369734b87d"
      },
      "execution_count": null,
      "outputs": [
        {
          "output_type": "execute_result",
          "data": {
            "text/plain": [
              "    Age  SystolicBP  DiastolicBP    BS  BodyTemp  HeartRate  RiskLevel\n",
              "0  25.0         NaN         80.0  15.0      98.0       86.0  high risk\n",
              "1  35.0       140.0          NaN  13.0      98.0       70.0  high risk\n",
              "2  29.0        90.0         70.0   8.0       NaN       80.0  high risk\n",
              "3  30.0       140.0         85.0   7.0      98.0       70.0  high risk\n",
              "4  35.0       120.0         60.0   6.1      98.0       76.0   low risk"
            ],
            "text/html": [
              "\n",
              "  <div id=\"df-208c4e65-5a00-4b47-a027-ae150d979a9b\">\n",
              "    <div class=\"colab-df-container\">\n",
              "      <div>\n",
              "<style scoped>\n",
              "    .dataframe tbody tr th:only-of-type {\n",
              "        vertical-align: middle;\n",
              "    }\n",
              "\n",
              "    .dataframe tbody tr th {\n",
              "        vertical-align: top;\n",
              "    }\n",
              "\n",
              "    .dataframe thead th {\n",
              "        text-align: right;\n",
              "    }\n",
              "</style>\n",
              "<table border=\"1\" class=\"dataframe\">\n",
              "  <thead>\n",
              "    <tr style=\"text-align: right;\">\n",
              "      <th></th>\n",
              "      <th>Age</th>\n",
              "      <th>SystolicBP</th>\n",
              "      <th>DiastolicBP</th>\n",
              "      <th>BS</th>\n",
              "      <th>BodyTemp</th>\n",
              "      <th>HeartRate</th>\n",
              "      <th>RiskLevel</th>\n",
              "    </tr>\n",
              "  </thead>\n",
              "  <tbody>\n",
              "    <tr>\n",
              "      <th>0</th>\n",
              "      <td>25.0</td>\n",
              "      <td>NaN</td>\n",
              "      <td>80.0</td>\n",
              "      <td>15.0</td>\n",
              "      <td>98.0</td>\n",
              "      <td>86.0</td>\n",
              "      <td>high risk</td>\n",
              "    </tr>\n",
              "    <tr>\n",
              "      <th>1</th>\n",
              "      <td>35.0</td>\n",
              "      <td>140.0</td>\n",
              "      <td>NaN</td>\n",
              "      <td>13.0</td>\n",
              "      <td>98.0</td>\n",
              "      <td>70.0</td>\n",
              "      <td>high risk</td>\n",
              "    </tr>\n",
              "    <tr>\n",
              "      <th>2</th>\n",
              "      <td>29.0</td>\n",
              "      <td>90.0</td>\n",
              "      <td>70.0</td>\n",
              "      <td>8.0</td>\n",
              "      <td>NaN</td>\n",
              "      <td>80.0</td>\n",
              "      <td>high risk</td>\n",
              "    </tr>\n",
              "    <tr>\n",
              "      <th>3</th>\n",
              "      <td>30.0</td>\n",
              "      <td>140.0</td>\n",
              "      <td>85.0</td>\n",
              "      <td>7.0</td>\n",
              "      <td>98.0</td>\n",
              "      <td>70.0</td>\n",
              "      <td>high risk</td>\n",
              "    </tr>\n",
              "    <tr>\n",
              "      <th>4</th>\n",
              "      <td>35.0</td>\n",
              "      <td>120.0</td>\n",
              "      <td>60.0</td>\n",
              "      <td>6.1</td>\n",
              "      <td>98.0</td>\n",
              "      <td>76.0</td>\n",
              "      <td>low risk</td>\n",
              "    </tr>\n",
              "  </tbody>\n",
              "</table>\n",
              "</div>\n",
              "      <button class=\"colab-df-convert\" onclick=\"convertToInteractive('df-208c4e65-5a00-4b47-a027-ae150d979a9b')\"\n",
              "              title=\"Convert this dataframe to an interactive table.\"\n",
              "              style=\"display:none;\">\n",
              "        \n",
              "  <svg xmlns=\"http://www.w3.org/2000/svg\" height=\"24px\"viewBox=\"0 0 24 24\"\n",
              "       width=\"24px\">\n",
              "    <path d=\"M0 0h24v24H0V0z\" fill=\"none\"/>\n",
              "    <path d=\"M18.56 5.44l.94 2.06.94-2.06 2.06-.94-2.06-.94-.94-2.06-.94 2.06-2.06.94zm-11 1L8.5 8.5l.94-2.06 2.06-.94-2.06-.94L8.5 2.5l-.94 2.06-2.06.94zm10 10l.94 2.06.94-2.06 2.06-.94-2.06-.94-.94-2.06-.94 2.06-2.06.94z\"/><path d=\"M17.41 7.96l-1.37-1.37c-.4-.4-.92-.59-1.43-.59-.52 0-1.04.2-1.43.59L10.3 9.45l-7.72 7.72c-.78.78-.78 2.05 0 2.83L4 21.41c.39.39.9.59 1.41.59.51 0 1.02-.2 1.41-.59l7.78-7.78 2.81-2.81c.8-.78.8-2.07 0-2.86zM5.41 20L4 18.59l7.72-7.72 1.47 1.35L5.41 20z\"/>\n",
              "  </svg>\n",
              "      </button>\n",
              "      \n",
              "  <style>\n",
              "    .colab-df-container {\n",
              "      display:flex;\n",
              "      flex-wrap:wrap;\n",
              "      gap: 12px;\n",
              "    }\n",
              "\n",
              "    .colab-df-convert {\n",
              "      background-color: #E8F0FE;\n",
              "      border: none;\n",
              "      border-radius: 50%;\n",
              "      cursor: pointer;\n",
              "      display: none;\n",
              "      fill: #1967D2;\n",
              "      height: 32px;\n",
              "      padding: 0 0 0 0;\n",
              "      width: 32px;\n",
              "    }\n",
              "\n",
              "    .colab-df-convert:hover {\n",
              "      background-color: #E2EBFA;\n",
              "      box-shadow: 0px 1px 2px rgba(60, 64, 67, 0.3), 0px 1px 3px 1px rgba(60, 64, 67, 0.15);\n",
              "      fill: #174EA6;\n",
              "    }\n",
              "\n",
              "    [theme=dark] .colab-df-convert {\n",
              "      background-color: #3B4455;\n",
              "      fill: #D2E3FC;\n",
              "    }\n",
              "\n",
              "    [theme=dark] .colab-df-convert:hover {\n",
              "      background-color: #434B5C;\n",
              "      box-shadow: 0px 1px 3px 1px rgba(0, 0, 0, 0.15);\n",
              "      filter: drop-shadow(0px 1px 2px rgba(0, 0, 0, 0.3));\n",
              "      fill: #FFFFFF;\n",
              "    }\n",
              "  </style>\n",
              "\n",
              "      <script>\n",
              "        const buttonEl =\n",
              "          document.querySelector('#df-208c4e65-5a00-4b47-a027-ae150d979a9b button.colab-df-convert');\n",
              "        buttonEl.style.display =\n",
              "          google.colab.kernel.accessAllowed ? 'block' : 'none';\n",
              "\n",
              "        async function convertToInteractive(key) {\n",
              "          const element = document.querySelector('#df-208c4e65-5a00-4b47-a027-ae150d979a9b');\n",
              "          const dataTable =\n",
              "            await google.colab.kernel.invokeFunction('convertToInteractive',\n",
              "                                                     [key], {});\n",
              "          if (!dataTable) return;\n",
              "\n",
              "          const docLinkHtml = 'Like what you see? Visit the ' +\n",
              "            '<a target=\"_blank\" href=https://colab.research.google.com/notebooks/data_table.ipynb>data table notebook</a>'\n",
              "            + ' to learn more about interactive tables.';\n",
              "          element.innerHTML = '';\n",
              "          dataTable['output_type'] = 'display_data';\n",
              "          await google.colab.output.renderOutput(dataTable, element);\n",
              "          const docLink = document.createElement('div');\n",
              "          docLink.innerHTML = docLinkHtml;\n",
              "          element.appendChild(docLink);\n",
              "        }\n",
              "      </script>\n",
              "    </div>\n",
              "  </div>\n",
              "  "
            ]
          },
          "metadata": {},
          "execution_count": 2
        }
      ]
    },
    {
      "cell_type": "markdown",
      "source": [
        "**Q3) As you can see the classification target which is 'RiskLevel' in string form. Change these values to integers like:** (+10 points)\n",
        "\n",
        "- low risk to 0\n",
        "- mid risk to 1\n",
        "- high risk to 2\n",
        "\n",
        "Then print the first 5 row again to see the difference."
      ],
      "metadata": {
        "id": "dcl9WCIyQBYg"
      }
    },
    {
      "cell_type": "code",
      "source": [
        "#Change the RiskLevel values to integer.\n",
        "dataset['RiskLevel'] = dataset['RiskLevel'].replace('low risk', 0).replace('mid risk', 1).replace('high risk', 2)"
      ],
      "metadata": {
        "id": "rSDWk1G-OZps"
      },
      "execution_count": null,
      "outputs": []
    },
    {
      "cell_type": "code",
      "source": [
        "#Print the first 5 row and see the difference.\n",
        "dataset.head()"
      ],
      "metadata": {
        "colab": {
          "base_uri": "https://localhost:8080/",
          "height": 206
        },
        "id": "npxXMXrhOaQE",
        "outputId": "0fe037db-96de-4ad8-ef8b-e669f57df20b"
      },
      "execution_count": null,
      "outputs": [
        {
          "output_type": "execute_result",
          "data": {
            "text/plain": [
              "    Age  SystolicBP  DiastolicBP    BS  BodyTemp  HeartRate  RiskLevel\n",
              "0  25.0         NaN         80.0  15.0      98.0       86.0          2\n",
              "1  35.0       140.0          NaN  13.0      98.0       70.0          2\n",
              "2  29.0        90.0         70.0   8.0       NaN       80.0          2\n",
              "3  30.0       140.0         85.0   7.0      98.0       70.0          2\n",
              "4  35.0       120.0         60.0   6.1      98.0       76.0          0"
            ],
            "text/html": [
              "\n",
              "  <div id=\"df-08bc0ef6-9525-43cd-892d-d4aa28ea8e75\">\n",
              "    <div class=\"colab-df-container\">\n",
              "      <div>\n",
              "<style scoped>\n",
              "    .dataframe tbody tr th:only-of-type {\n",
              "        vertical-align: middle;\n",
              "    }\n",
              "\n",
              "    .dataframe tbody tr th {\n",
              "        vertical-align: top;\n",
              "    }\n",
              "\n",
              "    .dataframe thead th {\n",
              "        text-align: right;\n",
              "    }\n",
              "</style>\n",
              "<table border=\"1\" class=\"dataframe\">\n",
              "  <thead>\n",
              "    <tr style=\"text-align: right;\">\n",
              "      <th></th>\n",
              "      <th>Age</th>\n",
              "      <th>SystolicBP</th>\n",
              "      <th>DiastolicBP</th>\n",
              "      <th>BS</th>\n",
              "      <th>BodyTemp</th>\n",
              "      <th>HeartRate</th>\n",
              "      <th>RiskLevel</th>\n",
              "    </tr>\n",
              "  </thead>\n",
              "  <tbody>\n",
              "    <tr>\n",
              "      <th>0</th>\n",
              "      <td>25.0</td>\n",
              "      <td>NaN</td>\n",
              "      <td>80.0</td>\n",
              "      <td>15.0</td>\n",
              "      <td>98.0</td>\n",
              "      <td>86.0</td>\n",
              "      <td>2</td>\n",
              "    </tr>\n",
              "    <tr>\n",
              "      <th>1</th>\n",
              "      <td>35.0</td>\n",
              "      <td>140.0</td>\n",
              "      <td>NaN</td>\n",
              "      <td>13.0</td>\n",
              "      <td>98.0</td>\n",
              "      <td>70.0</td>\n",
              "      <td>2</td>\n",
              "    </tr>\n",
              "    <tr>\n",
              "      <th>2</th>\n",
              "      <td>29.0</td>\n",
              "      <td>90.0</td>\n",
              "      <td>70.0</td>\n",
              "      <td>8.0</td>\n",
              "      <td>NaN</td>\n",
              "      <td>80.0</td>\n",
              "      <td>2</td>\n",
              "    </tr>\n",
              "    <tr>\n",
              "      <th>3</th>\n",
              "      <td>30.0</td>\n",
              "      <td>140.0</td>\n",
              "      <td>85.0</td>\n",
              "      <td>7.0</td>\n",
              "      <td>98.0</td>\n",
              "      <td>70.0</td>\n",
              "      <td>2</td>\n",
              "    </tr>\n",
              "    <tr>\n",
              "      <th>4</th>\n",
              "      <td>35.0</td>\n",
              "      <td>120.0</td>\n",
              "      <td>60.0</td>\n",
              "      <td>6.1</td>\n",
              "      <td>98.0</td>\n",
              "      <td>76.0</td>\n",
              "      <td>0</td>\n",
              "    </tr>\n",
              "  </tbody>\n",
              "</table>\n",
              "</div>\n",
              "      <button class=\"colab-df-convert\" onclick=\"convertToInteractive('df-08bc0ef6-9525-43cd-892d-d4aa28ea8e75')\"\n",
              "              title=\"Convert this dataframe to an interactive table.\"\n",
              "              style=\"display:none;\">\n",
              "        \n",
              "  <svg xmlns=\"http://www.w3.org/2000/svg\" height=\"24px\"viewBox=\"0 0 24 24\"\n",
              "       width=\"24px\">\n",
              "    <path d=\"M0 0h24v24H0V0z\" fill=\"none\"/>\n",
              "    <path d=\"M18.56 5.44l.94 2.06.94-2.06 2.06-.94-2.06-.94-.94-2.06-.94 2.06-2.06.94zm-11 1L8.5 8.5l.94-2.06 2.06-.94-2.06-.94L8.5 2.5l-.94 2.06-2.06.94zm10 10l.94 2.06.94-2.06 2.06-.94-2.06-.94-.94-2.06-.94 2.06-2.06.94z\"/><path d=\"M17.41 7.96l-1.37-1.37c-.4-.4-.92-.59-1.43-.59-.52 0-1.04.2-1.43.59L10.3 9.45l-7.72 7.72c-.78.78-.78 2.05 0 2.83L4 21.41c.39.39.9.59 1.41.59.51 0 1.02-.2 1.41-.59l7.78-7.78 2.81-2.81c.8-.78.8-2.07 0-2.86zM5.41 20L4 18.59l7.72-7.72 1.47 1.35L5.41 20z\"/>\n",
              "  </svg>\n",
              "      </button>\n",
              "      \n",
              "  <style>\n",
              "    .colab-df-container {\n",
              "      display:flex;\n",
              "      flex-wrap:wrap;\n",
              "      gap: 12px;\n",
              "    }\n",
              "\n",
              "    .colab-df-convert {\n",
              "      background-color: #E8F0FE;\n",
              "      border: none;\n",
              "      border-radius: 50%;\n",
              "      cursor: pointer;\n",
              "      display: none;\n",
              "      fill: #1967D2;\n",
              "      height: 32px;\n",
              "      padding: 0 0 0 0;\n",
              "      width: 32px;\n",
              "    }\n",
              "\n",
              "    .colab-df-convert:hover {\n",
              "      background-color: #E2EBFA;\n",
              "      box-shadow: 0px 1px 2px rgba(60, 64, 67, 0.3), 0px 1px 3px 1px rgba(60, 64, 67, 0.15);\n",
              "      fill: #174EA6;\n",
              "    }\n",
              "\n",
              "    [theme=dark] .colab-df-convert {\n",
              "      background-color: #3B4455;\n",
              "      fill: #D2E3FC;\n",
              "    }\n",
              "\n",
              "    [theme=dark] .colab-df-convert:hover {\n",
              "      background-color: #434B5C;\n",
              "      box-shadow: 0px 1px 3px 1px rgba(0, 0, 0, 0.15);\n",
              "      filter: drop-shadow(0px 1px 2px rgba(0, 0, 0, 0.3));\n",
              "      fill: #FFFFFF;\n",
              "    }\n",
              "  </style>\n",
              "\n",
              "      <script>\n",
              "        const buttonEl =\n",
              "          document.querySelector('#df-08bc0ef6-9525-43cd-892d-d4aa28ea8e75 button.colab-df-convert');\n",
              "        buttonEl.style.display =\n",
              "          google.colab.kernel.accessAllowed ? 'block' : 'none';\n",
              "\n",
              "        async function convertToInteractive(key) {\n",
              "          const element = document.querySelector('#df-08bc0ef6-9525-43cd-892d-d4aa28ea8e75');\n",
              "          const dataTable =\n",
              "            await google.colab.kernel.invokeFunction('convertToInteractive',\n",
              "                                                     [key], {});\n",
              "          if (!dataTable) return;\n",
              "\n",
              "          const docLinkHtml = 'Like what you see? Visit the ' +\n",
              "            '<a target=\"_blank\" href=https://colab.research.google.com/notebooks/data_table.ipynb>data table notebook</a>'\n",
              "            + ' to learn more about interactive tables.';\n",
              "          element.innerHTML = '';\n",
              "          dataTable['output_type'] = 'display_data';\n",
              "          await google.colab.output.renderOutput(dataTable, element);\n",
              "          const docLink = document.createElement('div');\n",
              "          docLink.innerHTML = docLinkHtml;\n",
              "          element.appendChild(docLink);\n",
              "        }\n",
              "      </script>\n",
              "    </div>\n",
              "  </div>\n",
              "  "
            ]
          },
          "metadata": {},
          "execution_count": 4
        }
      ]
    },
    {
      "cell_type": "markdown",
      "source": [
        "**<font color='red'>Important Note : </font>** As you can see, there are some NULL values (NaN) in the dataset. You need to handle them later."
      ],
      "metadata": {
        "id": "W-ux1mYBZlet"
      }
    },
    {
      "cell_type": "markdown",
      "source": [
        "**Q4) Check is there null values (NaN) in the dataset.** (+5 points)"
      ],
      "metadata": {
        "id": "3UaYNyBQZY4h"
      }
    },
    {
      "cell_type": "markdown",
      "source": [
        "**Show there are some Null values in some columns.**"
      ],
      "metadata": {
        "id": "AL5645TRZJEj"
      }
    },
    {
      "cell_type": "code",
      "source": [
        "# Use info() function\n",
        "dataset.info()"
      ],
      "metadata": {
        "colab": {
          "base_uri": "https://localhost:8080/"
        },
        "id": "qlO94UqjsQnj",
        "outputId": "7993d51f-8d08-4c1f-80e1-6c7992a752d1"
      },
      "execution_count": null,
      "outputs": [
        {
          "output_type": "stream",
          "name": "stdout",
          "text": [
            "<class 'pandas.core.frame.DataFrame'>\n",
            "RangeIndex: 915 entries, 0 to 914\n",
            "Data columns (total 7 columns):\n",
            " #   Column       Non-Null Count  Dtype  \n",
            "---  ------       --------------  -----  \n",
            " 0   Age          914 non-null    float64\n",
            " 1   SystolicBP   903 non-null    float64\n",
            " 2   DiastolicBP  904 non-null    float64\n",
            " 3   BS           913 non-null    float64\n",
            " 4   BodyTemp     912 non-null    float64\n",
            " 5   HeartRate    910 non-null    float64\n",
            " 6   RiskLevel    915 non-null    int64  \n",
            "dtypes: float64(6), int64(1)\n",
            "memory usage: 50.2 KB\n"
          ]
        }
      ]
    },
    {
      "cell_type": "code",
      "source": [
        "# Use isnull() function\n",
        "dataset.isnull()"
      ],
      "metadata": {
        "colab": {
          "base_uri": "https://localhost:8080/",
          "height": 424
        },
        "id": "kgElmJBVvQ7w",
        "outputId": "49ba6ccd-d03b-4a5d-ae45-4763e2581b4b"
      },
      "execution_count": null,
      "outputs": [
        {
          "output_type": "execute_result",
          "data": {
            "text/plain": [
              "       Age  SystolicBP  DiastolicBP     BS  BodyTemp  HeartRate  RiskLevel\n",
              "0    False        True        False  False     False      False      False\n",
              "1    False       False         True  False     False      False      False\n",
              "2    False       False        False  False      True      False      False\n",
              "3    False       False        False  False     False      False      False\n",
              "4    False       False        False  False     False      False      False\n",
              "..     ...         ...          ...    ...       ...        ...        ...\n",
              "910  False       False        False  False     False      False      False\n",
              "911  False       False        False  False     False      False      False\n",
              "912  False       False        False  False     False      False      False\n",
              "913  False       False        False  False     False      False      False\n",
              "914  False       False        False  False     False      False      False\n",
              "\n",
              "[915 rows x 7 columns]"
            ],
            "text/html": [
              "\n",
              "  <div id=\"df-09a7bb59-2f28-49a5-ab0f-5d06a83ae448\">\n",
              "    <div class=\"colab-df-container\">\n",
              "      <div>\n",
              "<style scoped>\n",
              "    .dataframe tbody tr th:only-of-type {\n",
              "        vertical-align: middle;\n",
              "    }\n",
              "\n",
              "    .dataframe tbody tr th {\n",
              "        vertical-align: top;\n",
              "    }\n",
              "\n",
              "    .dataframe thead th {\n",
              "        text-align: right;\n",
              "    }\n",
              "</style>\n",
              "<table border=\"1\" class=\"dataframe\">\n",
              "  <thead>\n",
              "    <tr style=\"text-align: right;\">\n",
              "      <th></th>\n",
              "      <th>Age</th>\n",
              "      <th>SystolicBP</th>\n",
              "      <th>DiastolicBP</th>\n",
              "      <th>BS</th>\n",
              "      <th>BodyTemp</th>\n",
              "      <th>HeartRate</th>\n",
              "      <th>RiskLevel</th>\n",
              "    </tr>\n",
              "  </thead>\n",
              "  <tbody>\n",
              "    <tr>\n",
              "      <th>0</th>\n",
              "      <td>False</td>\n",
              "      <td>True</td>\n",
              "      <td>False</td>\n",
              "      <td>False</td>\n",
              "      <td>False</td>\n",
              "      <td>False</td>\n",
              "      <td>False</td>\n",
              "    </tr>\n",
              "    <tr>\n",
              "      <th>1</th>\n",
              "      <td>False</td>\n",
              "      <td>False</td>\n",
              "      <td>True</td>\n",
              "      <td>False</td>\n",
              "      <td>False</td>\n",
              "      <td>False</td>\n",
              "      <td>False</td>\n",
              "    </tr>\n",
              "    <tr>\n",
              "      <th>2</th>\n",
              "      <td>False</td>\n",
              "      <td>False</td>\n",
              "      <td>False</td>\n",
              "      <td>False</td>\n",
              "      <td>True</td>\n",
              "      <td>False</td>\n",
              "      <td>False</td>\n",
              "    </tr>\n",
              "    <tr>\n",
              "      <th>3</th>\n",
              "      <td>False</td>\n",
              "      <td>False</td>\n",
              "      <td>False</td>\n",
              "      <td>False</td>\n",
              "      <td>False</td>\n",
              "      <td>False</td>\n",
              "      <td>False</td>\n",
              "    </tr>\n",
              "    <tr>\n",
              "      <th>4</th>\n",
              "      <td>False</td>\n",
              "      <td>False</td>\n",
              "      <td>False</td>\n",
              "      <td>False</td>\n",
              "      <td>False</td>\n",
              "      <td>False</td>\n",
              "      <td>False</td>\n",
              "    </tr>\n",
              "    <tr>\n",
              "      <th>...</th>\n",
              "      <td>...</td>\n",
              "      <td>...</td>\n",
              "      <td>...</td>\n",
              "      <td>...</td>\n",
              "      <td>...</td>\n",
              "      <td>...</td>\n",
              "      <td>...</td>\n",
              "    </tr>\n",
              "    <tr>\n",
              "      <th>910</th>\n",
              "      <td>False</td>\n",
              "      <td>False</td>\n",
              "      <td>False</td>\n",
              "      <td>False</td>\n",
              "      <td>False</td>\n",
              "      <td>False</td>\n",
              "      <td>False</td>\n",
              "    </tr>\n",
              "    <tr>\n",
              "      <th>911</th>\n",
              "      <td>False</td>\n",
              "      <td>False</td>\n",
              "      <td>False</td>\n",
              "      <td>False</td>\n",
              "      <td>False</td>\n",
              "      <td>False</td>\n",
              "      <td>False</td>\n",
              "    </tr>\n",
              "    <tr>\n",
              "      <th>912</th>\n",
              "      <td>False</td>\n",
              "      <td>False</td>\n",
              "      <td>False</td>\n",
              "      <td>False</td>\n",
              "      <td>False</td>\n",
              "      <td>False</td>\n",
              "      <td>False</td>\n",
              "    </tr>\n",
              "    <tr>\n",
              "      <th>913</th>\n",
              "      <td>False</td>\n",
              "      <td>False</td>\n",
              "      <td>False</td>\n",
              "      <td>False</td>\n",
              "      <td>False</td>\n",
              "      <td>False</td>\n",
              "      <td>False</td>\n",
              "    </tr>\n",
              "    <tr>\n",
              "      <th>914</th>\n",
              "      <td>False</td>\n",
              "      <td>False</td>\n",
              "      <td>False</td>\n",
              "      <td>False</td>\n",
              "      <td>False</td>\n",
              "      <td>False</td>\n",
              "      <td>False</td>\n",
              "    </tr>\n",
              "  </tbody>\n",
              "</table>\n",
              "<p>915 rows × 7 columns</p>\n",
              "</div>\n",
              "      <button class=\"colab-df-convert\" onclick=\"convertToInteractive('df-09a7bb59-2f28-49a5-ab0f-5d06a83ae448')\"\n",
              "              title=\"Convert this dataframe to an interactive table.\"\n",
              "              style=\"display:none;\">\n",
              "        \n",
              "  <svg xmlns=\"http://www.w3.org/2000/svg\" height=\"24px\"viewBox=\"0 0 24 24\"\n",
              "       width=\"24px\">\n",
              "    <path d=\"M0 0h24v24H0V0z\" fill=\"none\"/>\n",
              "    <path d=\"M18.56 5.44l.94 2.06.94-2.06 2.06-.94-2.06-.94-.94-2.06-.94 2.06-2.06.94zm-11 1L8.5 8.5l.94-2.06 2.06-.94-2.06-.94L8.5 2.5l-.94 2.06-2.06.94zm10 10l.94 2.06.94-2.06 2.06-.94-2.06-.94-.94-2.06-.94 2.06-2.06.94z\"/><path d=\"M17.41 7.96l-1.37-1.37c-.4-.4-.92-.59-1.43-.59-.52 0-1.04.2-1.43.59L10.3 9.45l-7.72 7.72c-.78.78-.78 2.05 0 2.83L4 21.41c.39.39.9.59 1.41.59.51 0 1.02-.2 1.41-.59l7.78-7.78 2.81-2.81c.8-.78.8-2.07 0-2.86zM5.41 20L4 18.59l7.72-7.72 1.47 1.35L5.41 20z\"/>\n",
              "  </svg>\n",
              "      </button>\n",
              "      \n",
              "  <style>\n",
              "    .colab-df-container {\n",
              "      display:flex;\n",
              "      flex-wrap:wrap;\n",
              "      gap: 12px;\n",
              "    }\n",
              "\n",
              "    .colab-df-convert {\n",
              "      background-color: #E8F0FE;\n",
              "      border: none;\n",
              "      border-radius: 50%;\n",
              "      cursor: pointer;\n",
              "      display: none;\n",
              "      fill: #1967D2;\n",
              "      height: 32px;\n",
              "      padding: 0 0 0 0;\n",
              "      width: 32px;\n",
              "    }\n",
              "\n",
              "    .colab-df-convert:hover {\n",
              "      background-color: #E2EBFA;\n",
              "      box-shadow: 0px 1px 2px rgba(60, 64, 67, 0.3), 0px 1px 3px 1px rgba(60, 64, 67, 0.15);\n",
              "      fill: #174EA6;\n",
              "    }\n",
              "\n",
              "    [theme=dark] .colab-df-convert {\n",
              "      background-color: #3B4455;\n",
              "      fill: #D2E3FC;\n",
              "    }\n",
              "\n",
              "    [theme=dark] .colab-df-convert:hover {\n",
              "      background-color: #434B5C;\n",
              "      box-shadow: 0px 1px 3px 1px rgba(0, 0, 0, 0.15);\n",
              "      filter: drop-shadow(0px 1px 2px rgba(0, 0, 0, 0.3));\n",
              "      fill: #FFFFFF;\n",
              "    }\n",
              "  </style>\n",
              "\n",
              "      <script>\n",
              "        const buttonEl =\n",
              "          document.querySelector('#df-09a7bb59-2f28-49a5-ab0f-5d06a83ae448 button.colab-df-convert');\n",
              "        buttonEl.style.display =\n",
              "          google.colab.kernel.accessAllowed ? 'block' : 'none';\n",
              "\n",
              "        async function convertToInteractive(key) {\n",
              "          const element = document.querySelector('#df-09a7bb59-2f28-49a5-ab0f-5d06a83ae448');\n",
              "          const dataTable =\n",
              "            await google.colab.kernel.invokeFunction('convertToInteractive',\n",
              "                                                     [key], {});\n",
              "          if (!dataTable) return;\n",
              "\n",
              "          const docLinkHtml = 'Like what you see? Visit the ' +\n",
              "            '<a target=\"_blank\" href=https://colab.research.google.com/notebooks/data_table.ipynb>data table notebook</a>'\n",
              "            + ' to learn more about interactive tables.';\n",
              "          element.innerHTML = '';\n",
              "          dataTable['output_type'] = 'display_data';\n",
              "          await google.colab.output.renderOutput(dataTable, element);\n",
              "          const docLink = document.createElement('div');\n",
              "          docLink.innerHTML = docLinkHtml;\n",
              "          element.appendChild(docLink);\n",
              "        }\n",
              "      </script>\n",
              "    </div>\n",
              "  </div>\n",
              "  "
            ]
          },
          "metadata": {},
          "execution_count": 6
        }
      ]
    },
    {
      "cell_type": "markdown",
      "source": [
        "##**Q5) Filling missing (null) values.** (+20 points, 5 for each method)"
      ],
      "metadata": {
        "id": "U8uR7RO2JccN"
      }
    },
    {
      "cell_type": "markdown",
      "source": [
        "**a ) Create a new dataset (a new version of the original one) with replacing the null values with 0 (zero).**"
      ],
      "metadata": {
        "id": "GJ01U8q1LLYx"
      }
    },
    {
      "cell_type": "markdown",
      "source": [
        "You can give names to new datasets like dataset1, dataset2, dataset3, dataset4."
      ],
      "metadata": {
        "id": "h6hBGvDNkqxV"
      }
    },
    {
      "cell_type": "code",
      "source": [
        "# Create a dataset with filling missing (null) values with zero. Do not change the original dataset.\n",
        "dataset1 = dataset.fillna(0)"
      ],
      "metadata": {
        "id": "HZklR_HIJc5n",
        "colab": {
          "base_uri": "https://localhost:8080/",
          "height": 182
        },
        "outputId": "d0a91147-08f3-4c9a-9db5-c81c7ac4cb1b"
      },
      "execution_count": null,
      "outputs": [
        {
          "output_type": "error",
          "ename": "NameError",
          "evalue": "ignored",
          "traceback": [
            "\u001b[0;31m---------------------------------------------------------------------------\u001b[0m",
            "\u001b[0;31mNameError\u001b[0m                                 Traceback (most recent call last)",
            "\u001b[0;32m<ipython-input-1-9aa47c818daf>\u001b[0m in \u001b[0;36m<module>\u001b[0;34m\u001b[0m\n\u001b[1;32m      1\u001b[0m \u001b[0;31m# Create a dataset with filling missing (null) values with zero. Do not change the original dataset.\u001b[0m\u001b[0;34m\u001b[0m\u001b[0;34m\u001b[0m\u001b[0;34m\u001b[0m\u001b[0m\n\u001b[0;32m----> 2\u001b[0;31m \u001b[0mdataset1\u001b[0m \u001b[0;34m=\u001b[0m \u001b[0mdataset\u001b[0m\u001b[0;34m.\u001b[0m\u001b[0mfillna\u001b[0m\u001b[0;34m(\u001b[0m\u001b[0;36m0\u001b[0m\u001b[0;34m)\u001b[0m\u001b[0;34m\u001b[0m\u001b[0;34m\u001b[0m\u001b[0m\n\u001b[0m",
            "\u001b[0;31mNameError\u001b[0m: name 'dataset' is not defined"
          ]
        }
      ]
    },
    {
      "cell_type": "code",
      "source": [
        "#print the first 10 rows of this new dataset.\n",
        "dataset1.head(10)"
      ],
      "metadata": {
        "id": "ZMfLgFZdLHrH"
      },
      "execution_count": null,
      "outputs": []
    },
    {
      "cell_type": "markdown",
      "source": [
        "**b ) Create a new dataset (a new version of the original one) with replacing the null values with next value on that column.**"
      ],
      "metadata": {
        "id": "Z7reBom5LK9Z"
      }
    },
    {
      "cell_type": "code",
      "source": [
        "# Create a dataset with filling missing values with next ones. Do not change the original dataset.  \n",
        "dataset2 = dataset.fillna(method ='bfill')"
      ],
      "metadata": {
        "id": "oBASO72GLXaI"
      },
      "execution_count": null,
      "outputs": []
    },
    {
      "cell_type": "code",
      "source": [
        "#print the first 10 rows of this new dataset.\n",
        "dataset2.head(10)"
      ],
      "metadata": {
        "id": "zXawap1dLb-i"
      },
      "execution_count": null,
      "outputs": []
    },
    {
      "cell_type": "markdown",
      "source": [
        "**c ) Create a new dataset (a new version of the original one) with dropping (deleting) null values.**"
      ],
      "metadata": {
        "id": "KDOuVdC3Lhd3"
      }
    },
    {
      "cell_type": "code",
      "source": [
        "# create a new dataset with dropping null values. Do not change the original dataset. \n",
        "dataset3 = dataset.dropna()"
      ],
      "metadata": {
        "id": "XDXnmMaJMjsU"
      },
      "execution_count": null,
      "outputs": []
    },
    {
      "cell_type": "code",
      "source": [
        "#print the first 10 rows of this new dataset.\n",
        "dataset3.head(10)"
      ],
      "metadata": {
        "id": "tOEIywDoMr3E"
      },
      "execution_count": null,
      "outputs": []
    },
    {
      "cell_type": "code",
      "source": [
        "#Show the shape of this dataset\n",
        "dataset3.shape"
      ],
      "metadata": {
        "id": "t63syNjdOuzP"
      },
      "execution_count": null,
      "outputs": []
    },
    {
      "cell_type": "markdown",
      "source": [
        "**<font color='red'>Important Note : </font>** As you can see when you delete the rows that has null values your dataset got smaller. This is not desirable when you have little data. We lost data. Do not lose data even if the results are better for this problem."
      ],
      "metadata": {
        "id": "EtqoYCUTbB1K"
      }
    },
    {
      "cell_type": "markdown",
      "source": [
        "**d ) Create a new dataset (a new version of the original one) with replacing the null values with the mean (average) value on that column for each class.**"
      ],
      "metadata": {
        "id": "93tbWUjNbcsY"
      }
    },
    {
      "cell_type": "code",
      "source": [
        "# Create a dataset with filling the null values with the mean of the values from that column for each class. Do not change the original dataset. \n",
        "dataset4 = (dataset.fillna(dataset.groupby('RiskLevel').transform('mean'))\n",
        "                      .astype(int))"
      ],
      "metadata": {
        "id": "aQlBDL7UL8VW"
      },
      "execution_count": null,
      "outputs": []
    },
    {
      "cell_type": "code",
      "source": [
        "#print the first 10 rows of this new dataset.\n",
        "dataset4.head(10)"
      ],
      "metadata": {
        "id": "gkU4ocyEL_jC"
      },
      "execution_count": null,
      "outputs": []
    },
    {
      "cell_type": "markdown",
      "source": [
        "<font color='red'>**Important Note:**</font> After this point, you can continue with the dataset that you want. \n",
        "\n",
        "If you want, you can try all of them and find the best one with your model. Or you can use different technique to handle null values. "
      ],
      "metadata": {
        "id": "iPJf06_8cclb"
      }
    },
    {
      "cell_type": "markdown",
      "source": [
        "#**Random Forest Classification**"
      ],
      "metadata": {
        "id": "KXFtp3IP5KMr"
      }
    },
    {
      "cell_type": "markdown",
      "source": [
        "**Q6) Split data into X (features) and y (target).** (+5 points)\n",
        "\n",
        "Target should be 'RiskLevel' column."
      ],
      "metadata": {
        "id": "4XTOrndrdyeH"
      }
    },
    {
      "cell_type": "code",
      "source": [
        "y = dataset4['RiskLevel']\n",
        "X = dataset4.drop(['RiskLevel'], axis=1)"
      ],
      "metadata": {
        "id": "ojNgpiASsDLd"
      },
      "execution_count": null,
      "outputs": []
    },
    {
      "cell_type": "markdown",
      "source": [
        "**Q7) Split data into train and test sets. You can use train_test_split function. 20% of data should be test set. Also you should split randomly (random_state =42)** (+5 points)"
      ],
      "metadata": {
        "id": "5stDMJyqeJf5"
      }
    },
    {
      "cell_type": "code",
      "source": [
        "from sklearn.model_selection import train_test_split\n",
        "\n",
        "X_train, X_test, y_train, y_test = train_test_split(X, y, \n",
        "                                                    test_size=0.2, \n",
        "                                                    random_state=42)"
      ],
      "metadata": {
        "id": "vtdCwxXdeHDD"
      },
      "execution_count": null,
      "outputs": []
    },
    {
      "cell_type": "markdown",
      "source": [
        "**Q8) Scale the values.** (+10 points)\n",
        "\n",
        "You can try any scaling method you want and continue with them. But you need to use one of them."
      ],
      "metadata": {
        "id": "g9r1Ctl3jJG7"
      }
    },
    {
      "cell_type": "code",
      "source": [
        "#Scaling\n",
        "from sklearn.preprocessing import MinMaxScaler\n",
        "from sklearn.preprocessing import StandardScaler\n",
        "n_scaler = MinMaxScaler()\n",
        "X_train_scaled = n_scaler.fit_transform(X_train.astype(np.float)) #fit_transform\n",
        "X_test_scaled = n_scaler.transform(X_test.astype(np.float)) #transform"
      ],
      "metadata": {
        "colab": {
          "base_uri": "https://localhost:8080/"
        },
        "id": "oPt8ftFNjj7s",
        "outputId": "0495327d-9285-4fe2-b770-e2e7fda9b98b"
      },
      "execution_count": null,
      "outputs": [
        {
          "output_type": "stream",
          "name": "stderr",
          "text": [
            "<ipython-input-21-5ddf04a09cd3>:5: DeprecationWarning: `np.float` is a deprecated alias for the builtin `float`. To silence this warning, use `float` by itself. Doing this will not modify any behavior and is safe. If you specifically wanted the numpy scalar type, use `np.float64` here.\n",
            "Deprecated in NumPy 1.20; for more details and guidance: https://numpy.org/devdocs/release/1.20.0-notes.html#deprecations\n",
            "  X_train_scaled = n_scaler.fit_transform(X_train.astype(np.float)) #fit_transform\n",
            "<ipython-input-21-5ddf04a09cd3>:6: DeprecationWarning: `np.float` is a deprecated alias for the builtin `float`. To silence this warning, use `float` by itself. Doing this will not modify any behavior and is safe. If you specifically wanted the numpy scalar type, use `np.float64` here.\n",
            "Deprecated in NumPy 1.20; for more details and guidance: https://numpy.org/devdocs/release/1.20.0-notes.html#deprecations\n",
            "  X_test_scaled = n_scaler.transform(X_test.astype(np.float)) #transform\n"
          ]
        }
      ]
    },
    {
      "cell_type": "markdown",
      "source": [
        "**Q9) Create the RandomForestClassifier Model with only given parameters.** (+10 points)\n",
        "\n",
        "* n_estimators=3, \n",
        "* max_depth=2\n",
        "\n",
        "**Fit the train data to the model. Then make predictions according to test set.**\n",
        "\n",
        "**Print the classification report according to y_test and y_predict according to this model.**"
      ],
      "metadata": {
        "id": "-TOGDjw0eiTe"
      }
    },
    {
      "cell_type": "code",
      "source": [
        "from sklearn.ensemble import RandomForestClassifier\n",
        "\n",
        "rfc = RandomForestClassifier(n_estimators=3, \n",
        "                             max_depth=2)"
      ],
      "metadata": {
        "id": "uBYO_iVq4lnl"
      },
      "execution_count": null,
      "outputs": []
    },
    {
      "cell_type": "code",
      "source": [
        "# Fit RandomForestClassifier\n",
        "rfc.fit(X_train_scaled, y_train)\n",
        "\n",
        "# Predict the test set labels\n",
        "y_pred = rfc.predict(X_test_scaled)"
      ],
      "metadata": {
        "id": "c864Vtid4m9x"
      },
      "execution_count": null,
      "outputs": []
    },
    {
      "cell_type": "code",
      "source": [
        "from sklearn.metrics import classification_report\n",
        "\n",
        "#print the classification report\n",
        "print(classification_report(y_test,y_pred))"
      ],
      "metadata": {
        "colab": {
          "base_uri": "https://localhost:8080/"
        },
        "id": "wDhKXc6k4sEY",
        "outputId": "936522de-521a-4835-98fb-9a9030dfa8bd"
      },
      "execution_count": null,
      "outputs": [
        {
          "output_type": "stream",
          "name": "stdout",
          "text": [
            "              precision    recall  f1-score   support\n",
            "\n",
            "           0       0.59      0.92      0.71        71\n",
            "           1       0.77      0.29      0.42        58\n",
            "           2       0.80      0.74      0.77        54\n",
            "\n",
            "    accuracy                           0.67       183\n",
            "   macro avg       0.72      0.65      0.64       183\n",
            "weighted avg       0.71      0.67      0.64       183\n",
            "\n"
          ]
        }
      ]
    },
    {
      "cell_type": "markdown",
      "source": [
        "#**Random Forest Hyperparameter Optimization** (+25 points)"
      ],
      "metadata": {
        "id": "H7OrD2b-5QKJ"
      }
    },
    {
      "cell_type": "code",
      "source": [
        "from sklearn.model_selection import GridSearchCV"
      ],
      "metadata": {
        "id": "M8Cy_QaCmVHH"
      },
      "execution_count": null,
      "outputs": []
    },
    {
      "cell_type": "code",
      "source": [
        "# Define the grid\n",
        "param_grid = {\n",
        "'n_estimators': [50, 100, 200],\n",
        "'min_samples_leaf': [1, 5, 7],\n",
        "'max_depth': [4, 6, 8],\n",
        "'max_features': ['auto', 'sqrt'],\n",
        "'bootstrap': [True, False]}"
      ],
      "metadata": {
        "id": "I37plRAt5SXd"
      },
      "execution_count": null,
      "outputs": []
    },
    {
      "cell_type": "markdown",
      "source": [
        "**Q10) Create a GridSearchCV model with using giving param_grid and fit with the scaled train data.**\n",
        "\n",
        "Cross validation value should be 3\n",
        "(cv = 3).\n"
      ],
      "metadata": {
        "id": "jIaN37X2pi0E"
      }
    },
    {
      "cell_type": "code",
      "source": [
        "# Create the GridSearchCV model\n",
        "model_gridsearch = GridSearchCV(\n",
        "estimator=rfc,\n",
        "param_grid=param_grid,\n",
        "cv=3\n",
        ")"
      ],
      "metadata": {
        "id": "Cx3wXWUJlvlG"
      },
      "execution_count": null,
      "outputs": []
    },
    {
      "cell_type": "code",
      "source": [
        "# Fit the GridSearchCV model\n",
        "model_gridsearch.fit(X_train_scaled, y_train)"
      ],
      "metadata": {
        "colab": {
          "base_uri": "https://localhost:8080/"
        },
        "id": "R98wgT3UmLGE",
        "outputId": "e5e6ace1-98c2-4fc3-d240-7887d16884ca"
      },
      "execution_count": null,
      "outputs": [
        {
          "output_type": "execute_result",
          "data": {
            "text/plain": [
              "GridSearchCV(cv=3,\n",
              "             estimator=RandomForestClassifier(max_depth=2, n_estimators=3),\n",
              "             param_grid={'bootstrap': [True, False], 'max_depth': [4, 6, 8],\n",
              "                         'max_features': ['auto', 'sqrt'],\n",
              "                         'min_samples_leaf': [1, 5, 7],\n",
              "                         'n_estimators': [50, 100, 200]})"
            ]
          },
          "metadata": {},
          "execution_count": 44
        }
      ]
    },
    {
      "cell_type": "markdown",
      "source": [
        "**Q11) Print the best parameters.**"
      ],
      "metadata": {
        "id": "eD-va6clqGRA"
      }
    },
    {
      "cell_type": "code",
      "source": [
        "print(model_gridsearch.best_params_)"
      ],
      "metadata": {
        "colab": {
          "base_uri": "https://localhost:8080/"
        },
        "id": "EuVYAJT1mO-v",
        "outputId": "dcd97410-d4dd-4655-8a97-a05219c390dd"
      },
      "execution_count": null,
      "outputs": [
        {
          "output_type": "stream",
          "name": "stdout",
          "text": [
            "{'bootstrap': False, 'max_depth': 8, 'max_features': 'sqrt', 'min_samples_leaf': 1, 'n_estimators': 50}\n"
          ]
        }
      ]
    },
    {
      "cell_type": "markdown",
      "source": [
        "**Q12) Create your final model with best parameters. Fit the scaled train data. Make the prediction and print the classification report.**\n"
      ],
      "metadata": {
        "id": "KzgEsz3HWrNP"
      }
    },
    {
      "cell_type": "markdown",
      "source": [
        "<font color='red'>**Important Note:**</font> **If you have time you can try different values of hyperparameter but you shouldn't give directly some random numbers. You have to complete GridSearchCV task.**"
      ],
      "metadata": {
        "id": "x1JwtZ9Vv8o6"
      }
    },
    {
      "cell_type": "code",
      "source": [
        "rfc_last = RandomForestClassifier(bootstrap=True, max_depth= 8, max_features= 'sqrt', min_samples_leaf= 1, n_estimators= 50)"
      ],
      "metadata": {
        "id": "x5Mtl5HyW3AI"
      },
      "execution_count": null,
      "outputs": []
    },
    {
      "cell_type": "code",
      "source": [
        "# Fit RandomForestClassifier\n",
        "rfc_last.fit(X_train_scaled, y_train)"
      ],
      "metadata": {
        "colab": {
          "base_uri": "https://localhost:8080/"
        },
        "id": "mtK4YJl5XEma",
        "outputId": "33d304b6-3957-44bf-ea9d-4efc1b2b671d"
      },
      "execution_count": null,
      "outputs": [
        {
          "output_type": "execute_result",
          "data": {
            "text/plain": [
              "RandomForestClassifier(max_depth=8, max_features='sqrt', n_estimators=50)"
            ]
          },
          "metadata": {},
          "execution_count": 47
        }
      ]
    },
    {
      "cell_type": "code",
      "source": [
        "# Predict on the test set \n",
        "y_pred_last = rfc_last.predict(X_test_scaled)"
      ],
      "metadata": {
        "id": "qtOqfBdBmNic"
      },
      "execution_count": null,
      "outputs": []
    },
    {
      "cell_type": "code",
      "source": [
        "print(classification_report(y_test,y_pred_last))"
      ],
      "metadata": {
        "colab": {
          "base_uri": "https://localhost:8080/"
        },
        "id": "vDtWxqqYo0hx",
        "outputId": "830f693c-2444-4df7-c48f-6af79e3a3cee"
      },
      "execution_count": null,
      "outputs": [
        {
          "output_type": "stream",
          "name": "stdout",
          "text": [
            "              precision    recall  f1-score   support\n",
            "\n",
            "           0       0.70      0.87      0.78        71\n",
            "           1       0.79      0.53      0.64        58\n",
            "           2       0.79      0.81      0.80        54\n",
            "\n",
            "    accuracy                           0.75       183\n",
            "   macro avg       0.76      0.74      0.74       183\n",
            "weighted avg       0.76      0.75      0.74       183\n",
            "\n"
          ]
        }
      ]
    },
    {
      "cell_type": "markdown",
      "source": [
        "#**BONUS : +5 points** \n",
        "\n",
        "Try to find \n",
        "\n",
        "* **Best filling null values technique (You can use a different one than the given techniques).**\n",
        "\n",
        "* **Best scaling method for this problem.**\n",
        "\n",
        "* **Best hyperparameters for this problem.**\n",
        "\n",
        "According to your final notebook I will train your model with the last filling null technique you chose, scaling method and hyperparameters. Then I will check the classification report with **my test data**. \n",
        "\n",
        "The solution that gives the best result according to the **F1 score** in the classification report will receive bonus points.\n",
        "\n",
        "(F1 is the harmonic mean of precision and recall.)"
      ],
      "metadata": {
        "id": "tsR7av-aXdr8"
      }
    },
    {
      "cell_type": "markdown",
      "source": [
        "\n",
        "**I will use this part to test your model with my test set. I will use your filling null strategy, scaling method and hyperparameters to train the model.**"
      ],
      "metadata": {
        "id": "afXz7sAUXP4I"
      }
    },
    {
      "cell_type": "code",
      "source": [
        "# Reading the data\n",
        "test = pd.read_csv('testmaternal.csv')\n",
        "\n",
        "#Change the RiskLevel values to integer.\n",
        "test['RiskLevel'] = test['RiskLevel'].replace('low risk', 0).replace('mid risk', 1).replace('high risk', 2)\n",
        "\n",
        "y_t = test['RiskLevel']\n",
        "X_t = test.drop(['RiskLevel'], axis=1)\n",
        "\n",
        "#Scaling\n",
        "X_t_scaled = n_scaler.transform(X_t.astype(np.float)) #transform\n",
        "\n",
        "# Predict on the test set \n",
        "y_pred_test = rfc_last.predict(X_t_scaled)\n",
        "\n",
        "print(classification_report(y_t,y_pred_test))"
      ],
      "metadata": {
        "colab": {
          "base_uri": "https://localhost:8080/"
        },
        "id": "Uc6UMTDGUoa_",
        "outputId": "7145f213-11ae-417b-ac73-d5d3216d4d2b"
      },
      "execution_count": null,
      "outputs": [
        {
          "output_type": "stream",
          "name": "stdout",
          "text": [
            "              precision    recall  f1-score   support\n",
            "\n",
            "           0       0.76      0.82      0.79        45\n",
            "           1       0.67      0.40      0.50        25\n",
            "           2       0.80      0.97      0.88        29\n",
            "\n",
            "    accuracy                           0.76        99\n",
            "   macro avg       0.74      0.73      0.72        99\n",
            "weighted avg       0.75      0.76      0.74        99\n",
            "\n"
          ]
        },
        {
          "output_type": "stream",
          "name": "stderr",
          "text": [
            "<ipython-input-50-7522014e4a46>:11: DeprecationWarning: `np.float` is a deprecated alias for the builtin `float`. To silence this warning, use `float` by itself. Doing this will not modify any behavior and is safe. If you specifically wanted the numpy scalar type, use `np.float64` here.\n",
            "Deprecated in NumPy 1.20; for more details and guidance: https://numpy.org/devdocs/release/1.20.0-notes.html#deprecations\n",
            "  X_t_scaled = n_scaler.transform(X_t.astype(np.float)) #transform\n"
          ]
        }
      ]
    }
  ]
}